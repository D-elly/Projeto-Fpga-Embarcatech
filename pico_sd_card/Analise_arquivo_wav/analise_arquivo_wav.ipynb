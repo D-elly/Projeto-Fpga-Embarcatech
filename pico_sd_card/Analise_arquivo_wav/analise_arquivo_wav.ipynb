{
 "cells": [
  {
   "cell_type": "markdown",
   "id": "555afcdb",
   "metadata": {},
   "source": [
    "Função para ler o cabeçalho WAV e obter informações importantes"
   ]
  },
  {
   "cell_type": "code",
   "execution_count": 1,
   "id": "ac2ca7e1",
   "metadata": {},
   "outputs": [],
   "source": [
    "import wave\n",
    "import os"
   ]
  },
  {
   "cell_type": "code",
   "execution_count": 3,
   "id": "d139db7c",
   "metadata": {},
   "outputs": [
    {
     "name": "stdout",
     "output_type": "stream",
     "text": [
      "\n",
      "--- Análise do Arquivo: meu_audio.wav ---\n",
      "Tipo de Compressão: not compressed (NONE)\n",
      "Número de Canais: 2\n",
      "Profundidade de Bit: 16 bits (2 bytes)\n",
      "Taxa de Amostragem (Sample Rate): 44100 Hz\n",
      "Número Total de Amostras (Frames): 526073\n",
      "Tamanho Padrão do Cabeçalho: 44 bytes\n",
      "Tamanho dos Dados Brutos (Data Size): 2104292 bytes\n",
      "Tamanho Estimado do Arquivo Total: 2104336 bytes\n"
     ]
    }
   ],
   "source": [
    "def analisar_cabecalho_wav(file_name):\n",
    "    # O tamanho padrão do cabeçalho para áudio PCM é 44 bytes.\n",
    "    standard_header_size = 44\n",
    "    \n",
    "    try:\n",
    "        with wave.open(file_name, 'rb') as wf:\n",
    "            # 1. Extrair informações básicas do cabeçalho\n",
    "            n_channels = wf.getnchannels()\n",
    "            sample_width = wf.getsampwidth()\n",
    "            frame_rate = wf.getframerate()\n",
    "            n_frames = wf.getnframes()\n",
    "            comp_type = wf.getcomptype()\n",
    "            comp_name = wf.getcompname()\n",
    "\n",
    "            # 2. Calcular o tamanho dos dados brutos\n",
    "            # Tamanho dos Dados = Número de Amostras * Canais * Largura da Amostra (em bytes)\n",
    "            data_size_bytes = n_frames * n_channels * sample_width\n",
    "\n",
    "            print(f\"\\n--- Análise do Arquivo: {file_name} ---\")\n",
    "            \n",
    "            # Formato do Audio\n",
    "            print(f\"Tipo de Compressão: {comp_name} ({comp_type})\")\n",
    "            \n",
    "            # Parâmetros de Áudio\n",
    "            print(f\"Número de Canais: {n_channels}\")\n",
    "            print(f\"Profundidade de Bit: {sample_width * 8} bits ({sample_width} bytes)\")\n",
    "            print(f\"Taxa de Amostragem (Sample Rate): {frame_rate} Hz\")\n",
    "            print(f\"Número Total de Amostras (Frames): {n_frames}\")\n",
    "            \n",
    "            # Tamanhos\n",
    "            print(f\"Tamanho Padrão do Cabeçalho: {standard_header_size} bytes\")\n",
    "            print(f\"Tamanho dos Dados Brutos (Data Size): {data_size_bytes} bytes\")\n",
    "            print(f\"Tamanho Estimado do Arquivo Total: {data_size_bytes + standard_header_size} bytes\")\n",
    "\n",
    "    except wave.Error as e:\n",
    "        print(f\"Erro ao ler o arquivo WAV: {e}\")\n",
    "    except FileNotFoundError:\n",
    "        print(f\"Erro: Arquivo '{file_name}' não encontrado.\")\n",
    "    except Exception as e:\n",
    "        print(f\"Ocorreu um erro inesperado: {e}\")\n",
    "\n",
    "# Nome do seu arquivo\n",
    "analisar_cabecalho_wav(\"meu_audio.wav\")"
   ]
  },
  {
   "cell_type": "code",
   "execution_count": null,
   "id": "4c35390e",
   "metadata": {},
   "outputs": [],
   "source": [
    "!pip install scipy matplotlib"
   ]
  },
  {
   "cell_type": "code",
   "execution_count": 7,
   "id": "d3c2876d",
   "metadata": {},
   "outputs": [],
   "source": [
    "import matplotlib.pyplot as plt\n",
    "from scipy.io import wavfile"
   ]
  },
  {
   "cell_type": "code",
   "execution_count": null,
   "id": "0ad75a1c",
   "metadata": {},
   "outputs": [],
   "source": [
    "sample_rate, data = wavfile.read('meu_audio.wav')\n",
    "\n",
    "# Simplificando para um canal se for estéreo\n",
    "if data.ndim > 1:\n",
    "    data = data[:, 0]\n",
    "\n",
    "# Plotar o gráfico da forma de onda\n",
    "plt.plot(data)\n",
    "plt.title('Visualização da Forma de Onda WAV')\n",
    "plt.show()"
   ]
  }
 ],
 "metadata": {
  "kernelspec": {
   "display_name": "Python 3",
   "language": "python",
   "name": "python3"
  },
  "language_info": {
   "codemirror_mode": {
    "name": "ipython",
    "version": 3
   },
   "file_extension": ".py",
   "mimetype": "text/x-python",
   "name": "python",
   "nbconvert_exporter": "python",
   "pygments_lexer": "ipython3",
   "version": "3.13.5"
  }
 },
 "nbformat": 4,
 "nbformat_minor": 5
}
